{
 "cells": [
  {
   "cell_type": "code",
   "execution_count": 12,
   "metadata": {},
   "outputs": [],
   "source": [
    "import sklearn\n",
    "import pandas as pd\n",
    "from influxdb import InfluxDBClient\n",
    "from sklearn import manifold, random_projection\n",
    "from sklearn.decomposition import PCA\n",
    "from sklearn.preprocessing import MinMaxScaler\n",
    "from metrics.pyDRMetrics import DRMetrics\n",
    "import matplotlib.pyplot as plt\n",
    "import yaml"
   ]
  },
  {
   "cell_type": "code",
   "execution_count": 1,
   "metadata": {},
   "outputs": [],
   "source": [
    "with open('/home/min/Multi-level-Feature-Driven-Storage-Server/configuration_manager/config.yaml','r') as yamlfile:\n",
    "    data = yaml.load(yamlfile,Loader=yaml.FullLoader)\n",
    "\n",
    "DBclient = InfluxDBClient(host=data['global']['database_ip'], port=data['global']['database_port'], database=data['global']['database_name'], username='root', password='root')\n",
    "\n",
    "max_ = 0\n",
    "min_ = 0\n",
    "\n",
    "# Note that the input values to PCA should not be negative or the principle would be different because of the order \n",
    "table_name = \"visual_features_entropy_unnormalized\"\n",
    "result = DBclient.query('SELECT * FROM '+table_name)\n",
    "result_point = pd.DataFrame(result.get_points(measurement=table_name))\n",
    "meta_X = result_point['name']\n",
    "\n",
    "X = result_point.drop(columns = ['name', 'time'])\n",
    "\n",
    "\n",
    "isomap = manifold.Isomap(n_neighbors=12, n_components=1)\n",
    "isomap_y = isomap.fit_transform(X)\n",
    "\n",
    "pca = PCA(n_components=1)\n",
    "pca_y = pca.fit_transform(X)\n",
    "\n",
    "drm_isomap = DRMetrics(X, isomap_y)\n",
    "drm_pca = DRMetrics(X, pca_y)\n",
    "\n",
    "\n"
   ]
  },
  {
   "cell_type": "code",
   "execution_count": 14,
   "metadata": {},
   "outputs": [],
   "source": [
    "rps_transformer = random_projection.SparseRandomProjection(n_components = 1)\n",
    "rps_y = rps_transformer.fit_transform(X)\n",
    "drm_rps = DRMetrics(X, rps_y)\n",
    "\n",
    "rpg_transformer = random_projection.GaussianRandomProjection(n_components = 1)\n",
    "rpg_y = rpg_transformer.fit_transform(X)\n",
    "drm_rpg = DRMetrics(X, rpg_y)\n"
   ]
  },
  {
   "cell_type": "code",
   "execution_count": 15,
   "metadata": {},
   "outputs": [
    {
     "name": "stdout",
     "output_type": "stream",
     "text": [
      "PCA T AUC =  0.9999272734462155\n",
      "iso T AUC =  0.999908591737824\n",
      "rps T AUC =  0.9995950063559146\n",
      "rpg T AUC =  0.9992610652235363\n",
      "PCA C AUC =  0.9999747947854137\n",
      "iso C AUC =  0.9999523847035376\n",
      "rps C AUC =  0.9996472703273783\n",
      "rpg C AUC =  0.9994570828868007\n"
     ]
    },
    {
     "data": {
      "text/plain": [
       "<Figure size 432x288 with 0 Axes>"
      ]
     },
     "metadata": {},
     "output_type": "display_data"
    }
   ],
   "source": [
    "# # minMax normalization\n",
    "    # max_ = max(max_, y.max(axis=0))\n",
    "# min_ = min(min_, y.min(axis=0))\n",
    "# y_std = (y - min_) / (max_ - min_)\n",
    "\n",
    "plt.plot(drm_pca.T, label = 'pca', color = 'b')\n",
    "plt.plot(drm_isomap.T, label = 'isomap', color = 'y')\n",
    "plt.plot(drm_rps.T, label = 'isomap', color = 'g')\n",
    "plt.plot(drm_rpg.T, label = 'isomap', color = 'r')\n",
    "\n",
    "plt.ylim(-0.1,1.1)\n",
    "plt.legend()\n",
    "plt.savefig('T.png')\n",
    "plt.clf()\n",
    "\n",
    "plt.plot(drm_pca.C, label = 'pca', color = 'b')\n",
    "plt.plot(drm_isomap.C, label = 'isomap', color = 'y')\n",
    "plt.plot(drm_rps.C, label = 'isomap', color = 'g')\n",
    "plt.plot(drm_rpg.C, label = 'isomap', color = 'r')\n",
    "\n",
    "plt.ylim(-0.1,1.1)\n",
    "plt.legend()\n",
    "plt.savefig('C.png')\n",
    "plt.clf()\n",
    "\n",
    "print('PCA T AUC = ', drm_pca.AUC_T)\n",
    "print('iso T AUC = ', drm_isomap.AUC_T)\n",
    "print('rps T AUC = ', drm_rps.AUC_T)\n",
    "print('rpg T AUC = ', drm_rpg.AUC_T)\n",
    "\n",
    "print('PCA C AUC = ', drm_pca.AUC_C)\n",
    "print('iso C AUC = ', drm_isomap.AUC_C)\n",
    "print('rps C AUC = ', drm_rps.AUC_C)\n",
    "print('rpg C AUC = ', drm_rpg.AUC_C)"
   ]
  },
  {
   "cell_type": "code",
   "execution_count": 18,
   "metadata": {},
   "outputs": [
    {
     "name": "stdout",
     "output_type": "stream",
     "text": [
      "0.000068295\n",
      "0.000118581\n",
      "0.001649217\n",
      "0.002947369\n"
     ]
    }
   ],
   "source": [
    "print(\"%.9f\"% (drm_pca.Vr))\n",
    "print(\"%.9f\"% (drm_isomap.Vr))\n",
    "print(\"%.9f\"% (drm_rps.Vr))\n",
    "print(\"%.9f\"% (drm_rpg.Vr))"
   ]
  }
 ],
 "metadata": {
  "kernelspec": {
   "display_name": "Python 3",
   "language": "python",
   "name": "python3"
  },
  "language_info": {
   "codemirror_mode": {
    "name": "ipython",
    "version": 3
   },
   "file_extension": ".py",
   "mimetype": "text/x-python",
   "name": "python",
   "nbconvert_exporter": "python",
   "pygments_lexer": "ipython3",
   "version": "3.8.5"
  }
 },
 "nbformat": 4,
 "nbformat_minor": 4
}
